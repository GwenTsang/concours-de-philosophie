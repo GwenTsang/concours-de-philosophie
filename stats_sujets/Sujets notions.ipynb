{
  "nbformat": 4,
  "nbformat_minor": 0,
  "metadata": {
    "colab": {
      "provenance": []
    },
    "kernelspec": {
      "name": "python3",
      "display_name": "Python 3"
    },
    "language_info": {
      "name": "python"
    }
  },
  "cells": [
    {
      "cell_type": "code",
      "execution_count": null,
      "metadata": {
        "colab": {
          "base_uri": "https://localhost:8080/"
        },
        "id": "Z7dCJuZnsmCE",
        "outputId": "c8a33e4b-2563-4edd-ac8a-196309d869f3"
      },
      "outputs": [
        {
          "output_type": "stream",
          "name": "stdout",
          "text": [
            "Cloning into 'concours-de-philosophie'...\n",
            "remote: Enumerating objects: 40, done.\u001b[K\n",
            "remote: Counting objects: 100% (40/40), done.\u001b[K\n",
            "remote: Compressing objects: 100% (38/38), done.\u001b[K\n",
            "remote: Total 40 (delta 10), reused 0 (delta 0), pack-reused 0 (from 0)\u001b[K\n",
            "Receiving objects: 100% (40/40), 107.40 KiB | 1.51 MiB/s, done.\n",
            "Resolving deltas: 100% (10/10), done.\n"
          ]
        }
      ],
      "source": [
        "!git clone https://github.com/ZygoOoade/concours-de-philosophie.git\n",
        "\n",
        "!cp -r concours-de-philosophie/sujets-agreg/* /content/"
      ]
    },
    {
      "cell_type": "code",
      "source": [
        "import pandas as pd\n",
        "import os\n",
        "from glob import glob\n",
        "\n",
        "input_directory = \"/content\"\n",
        "\n",
        "# Step 1: Merge all the xlsx files into a single file\n",
        "all_files = glob(os.path.join(input_directory, \"*.xlsx\"))\n",
        "merged_data = []\n",
        "\n",
        "# Read each file and append its content to the list\n",
        "for file in all_files:\n",
        "    df = pd.read_excel(file, usecols=[0], header=None)  # Read only the first column\n",
        "    merged_data.append(df)\n",
        "\n",
        "# Concatenate all dataframes vertically\n",
        "merged_df = pd.concat(merged_data, ignore_index=True)\n",
        "\n",
        "# Save the merged data to a new xlsx file\n",
        "merged_filename = os.path.join(input_directory, \"merged.xlsx\")\n",
        "merged_df.to_excel(merged_filename, index=False, header=False)\n",
        "\n",
        "# Step 2: Calculate the total number of topics and the number of question topics\n",
        "# Total number of topics\n",
        "total_topics = len(merged_df)\n",
        "\n",
        "# Count the number of topics ending with a question mark\n",
        "question_topics = merged_df[merged_df[0].str.endswith(\"?\")].shape[0]\n",
        "\n",
        "# Step 3: Calculate the percentage of question topics\n",
        "percentage_question_topics = (question_topics / total_topics) * 100\n",
        "\n",
        "# Print the results\n",
        "print(f\"Total number of topics: {total_topics}\")\n",
        "print(f\"Number of question topics: {question_topics}\")\n",
        "print(f\"Percentage of question topics: {percentage_question_topics:.2f}%\")"
      ],
      "metadata": {
        "colab": {
          "base_uri": "https://localhost:8080/"
        },
        "id": "G3wCHlMasrBN",
        "outputId": "8390f289-3558-4960-c793-e9cf115b051d"
      },
      "execution_count": null,
      "outputs": [
        {
          "output_type": "stream",
          "name": "stdout",
          "text": [
            "Total number of topics: 3352\n",
            "Number of question topics: 1365\n",
            "Percentage of question topics: 40.72%\n"
          ]
        }
      ]
    },
    {
      "cell_type": "code",
      "source": [
        "import pandas as pd\n",
        "\n",
        "# Load the Excel file\n",
        "file_path = '/content/tableau.xlsx'\n",
        "df = pd.read_excel(file_path)\n",
        "\n",
        "# Get the first column (assuming it's the one containing topics)\n",
        "topics = df.iloc[:, 0]\n",
        "\n",
        "# Count the number of words in each topic\n",
        "def count_words(topic):\n",
        "    if pd.isna(topic):  # Handle empty or NaN values\n",
        "        return 0\n",
        "    return len(str(topic).split())\n",
        "\n",
        "# Apply the word count function and filter for one or two words\n",
        "notion_topics = topics[topics.apply(count_words).isin([1, 2])]\n",
        "\n",
        "# Count the total number of notion topics\n",
        "notion_topics_count = len(notion_topics)\n",
        "\n",
        "print(f\"Number of notion topics: {notion_topics_count}\")"
      ],
      "metadata": {
        "colab": {
          "base_uri": "https://localhost:8080/"
        },
        "id": "Cs-Sr5gusvjy",
        "outputId": "d795fb67-907a-4d7a-eec2-0710d9b28a2f"
      },
      "execution_count": null,
      "outputs": [
        {
          "output_type": "stream",
          "name": "stdout",
          "text": [
            "Number of notion topics: 863\n"
          ]
        }
      ]
    },
    {
      "cell_type": "code",
      "source": [
        "import pandas as pd\n",
        "\n",
        "# Load the Excel file\n",
        "file_path = '/content/tableau.xlsx'\n",
        "df = pd.read_excel(file_path)\n",
        "\n",
        "# Get the first column (assuming it contains the subjects)\n",
        "subjects = df.iloc[:, 0]\n",
        "\n",
        "# Count subjects starting with \"«\"\n",
        "subjects_with_quotation_marks = subjects[subjects.str.startswith('«', na=False)]\n",
        "\n",
        "# Get the count\n",
        "count = len(subjects_with_quotation_marks)\n",
        "\n",
        "print(f\"Number of subjects starting with «: {count}\")"
      ],
      "metadata": {
        "colab": {
          "base_uri": "https://localhost:8080/"
        },
        "id": "HRnxUpCLwavC",
        "outputId": "b9d4fc3b-df63-440e-94e7-fc7ebd8a42ae"
      },
      "execution_count": null,
      "outputs": [
        {
          "output_type": "stream",
          "name": "stdout",
          "text": [
            "Number of subjects starting with «: 21\n"
          ]
        }
      ]
    }
  ]
}
