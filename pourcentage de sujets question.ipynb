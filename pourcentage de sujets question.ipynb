{
  "nbformat": 4,
  "nbformat_minor": 0,
  "metadata": {
    "colab": {
      "provenance": []
    },
    "kernelspec": {
      "name": "python3",
      "display_name": "Python 3"
    },
    "language_info": {
      "name": "python"
    }
  },
  "cells": [
    {
      "cell_type": "code",
      "execution_count": 1,
      "metadata": {
        "colab": {
          "base_uri": "https://localhost:8080/"
        },
        "id": "ChD_4Ttn9GJc",
        "outputId": "d47fe484-4ad4-4ad1-d630-e4b40fc9cfcd"
      },
      "outputs": [
        {
          "output_type": "stream",
          "name": "stdout",
          "text": [
            "Total number of topics: 3352\n",
            "Number of question topics: 1365\n",
            "Percentage of question topics: 40.72%\n"
          ]
        }
      ],
      "source": [
        "import pandas as pd\n",
        "import os\n",
        "from glob import glob\n",
        "\n",
        "# Path to the directory containing your xlsx files\n",
        "input_directory = \"/content\"\n",
        "\n",
        "# Step 1: Merge all the xlsx files into a single file\n",
        "all_files = glob(os.path.join(input_directory, \"*.xlsx\"))\n",
        "merged_data = []\n",
        "\n",
        "# Read each file and append its content to the list\n",
        "for file in all_files:\n",
        "    df = pd.read_excel(file, usecols=[0], header=None)  # Read only the first column\n",
        "    merged_data.append(df)\n",
        "\n",
        "# Concatenate all dataframes vertically\n",
        "merged_df = pd.concat(merged_data, ignore_index=True)\n",
        "\n",
        "# Save the merged data to a new xlsx file\n",
        "merged_filename = os.path.join(input_directory, \"merged.xlsx\")\n",
        "merged_df.to_excel(merged_filename, index=False, header=False)\n",
        "\n",
        "# Step 2: Calculate the total number of topics and the number of question topics\n",
        "# Total number of topics\n",
        "total_topics = len(merged_df)\n",
        "\n",
        "# Count the number of topics ending with a question mark\n",
        "question_topics = merged_df[merged_df[0].str.endswith(\"?\")].shape[0]\n",
        "\n",
        "# Step 3: Calculate the percentage of question topics\n",
        "percentage_question_topics = (question_topics / total_topics) * 100\n",
        "\n",
        "# Print the results\n",
        "print(f\"Total number of topics: {total_topics}\")\n",
        "print(f\"Number of question topics: {question_topics}\")\n",
        "print(f\"Percentage of question topics: {percentage_question_topics:.2f}%\")"
      ]
    }
  ]
}