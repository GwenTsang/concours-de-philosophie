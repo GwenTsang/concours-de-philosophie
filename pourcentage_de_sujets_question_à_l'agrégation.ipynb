{
  "nbformat": 4,
  "nbformat_minor": 0,
  "metadata": {
    "colab": {
      "provenance": []
    },
    "kernelspec": {
      "name": "python3",
      "display_name": "Python 3"
    },
    "language_info": {
      "name": "python"
    }
  },
  "cells": [
    {
      "cell_type": "markdown",
      "source": [
        "Dans le code python suivant, on prend tous les fichiers « xlsx » dans « content » dans mon environnement colab pour générer un seul fichier « xlsx » contenant le contenu de TOUS les fichiers xlsx précédents. Puisque tous les sujets sont seulement dans la première colonne de chaque fichiers, la fusion totale de tous les fichiers xlsx contient la somme du nombre de lignes dans tous les fichiers xlsx.\n",
        "\n",
        "On considère deux variables :\n",
        "\n",
        "- d'une part, le nombre total de sujets, qui correspond au nombre de lignes (on suppose que les sujets commencent à la première ligne et se répartissent exclusivement dans la première colonne. C'est la variable « total ».\n",
        "\n",
        "- d'autre part, la variable « nombre de questions des sujets ». Cette variable est facile à obtenir : lorsqu'un sujet est un sujet de question, il contient un point d'interrogation « ? Par conséquent, il suffit de chercher le nombre total de «  ? » dans le fichier xslx pour connaître le nombre de sujets de questions. Normalement, d'ailleurs, le «  ? » est placé à la fin du sujet, et la variable « nombre de sujets de questions » doit être strictement inférieure à la variable précédente : la liste contient des sujets qui n'en sont pas.\n",
        "\n",
        "A partir de ces deux variables, il est facile de calculer le pourcentage de sujets de questions dans le total de la liste.\n"
      ],
      "metadata": {
        "id": "Q1H0U0UX_JM7"
      }
    },
    {
      "cell_type": "code",
      "execution_count": 1,
      "metadata": {
        "colab": {
          "base_uri": "https://localhost:8080/"
        },
        "id": "ChD_4Ttn9GJc",
        "outputId": "d47fe484-4ad4-4ad1-d630-e4b40fc9cfcd"
      },
      "outputs": [
        {
          "output_type": "stream",
          "name": "stdout",
          "text": [
            "Total number of topics: 3352\n",
            "Number of question topics: 1365\n",
            "Percentage of question topics: 40.72%\n"
          ]
        }
      ],
      "source": [
        "import pandas as pd\n",
        "import os\n",
        "from glob import glob\n",
        "\n",
        "# Path to the directory containing your xlsx files\n",
        "input_directory = \"/content\"\n",
        "\n",
        "# Step 1: Merge all the xlsx files into a single file\n",
        "all_files = glob(os.path.join(input_directory, \"*.xlsx\"))\n",
        "merged_data = []\n",
        "\n",
        "# Read each file and append its content to the list\n",
        "for file in all_files:\n",
        "    df = pd.read_excel(file, usecols=[0], header=None)  # Read only the first column\n",
        "    merged_data.append(df)\n",
        "\n",
        "# Concatenate all dataframes vertically\n",
        "merged_df = pd.concat(merged_data, ignore_index=True)\n",
        "\n",
        "# Save the merged data to a new xlsx file\n",
        "merged_filename = os.path.join(input_directory, \"merged.xlsx\")\n",
        "merged_df.to_excel(merged_filename, index=False, header=False)\n",
        "\n",
        "# Step 2: Calculate the total number of topics and the number of question topics\n",
        "# Total number of topics\n",
        "total_topics = len(merged_df)\n",
        "\n",
        "# Count the number of topics ending with a question mark\n",
        "question_topics = merged_df[merged_df[0].str.endswith(\"?\")].shape[0]\n",
        "\n",
        "# Step 3: Calculate the percentage of question topics\n",
        "percentage_question_topics = (question_topics / total_topics) * 100\n",
        "\n",
        "# Print the results\n",
        "print(f\"Total number of topics: {total_topics}\")\n",
        "print(f\"Number of question topics: {question_topics}\")\n",
        "print(f\"Percentage of question topics: {percentage_question_topics:.2f}%\")"
      ]
    },
    {
      "cell_type": "markdown",
      "source": [
        "Le code python suivant sert à avoir une idée de la variabilité entre les listes. Il en ressort que le pourcentage reste assez stable."
      ],
      "metadata": {
        "id": "XNmL9yp5-vJj"
      }
    },
    {
      "cell_type": "code",
      "source": [
        "import pandas as pd\n",
        "import os\n",
        "from glob import glob\n",
        "\n",
        "# Path to the directory containing your xlsx files\n",
        "input_directory = \"/content\"\n",
        "\n",
        "# Step 1: List all the xlsx files in the directory\n",
        "all_files = glob(os.path.join(input_directory, \"*.xlsx\"))\n",
        "\n",
        "# Step 2: Process each file independently and calculate the percentage of question topics\n",
        "results = []\n",
        "\n",
        "for file in all_files:\n",
        "    # Read the first column of the current file\n",
        "    df = pd.read_excel(file, usecols=[0], header=None)\n",
        "\n",
        "    # Total number of topics in the file\n",
        "    total_topics = len(df)\n",
        "\n",
        "    # Count the number of topics ending with a question mark\n",
        "    question_topics = df[df[0].str.endswith(\"?\")].shape[0]\n",
        "\n",
        "    # Calculate the percentage of question topics\n",
        "    percentage_question_topics = (question_topics / total_topics) * 100 if total_topics > 0 else 0\n",
        "\n",
        "    # Store the results for this file\n",
        "    results.append({\n",
        "        \"file\": os.path.basename(file),\n",
        "        \"total_topics\": total_topics,\n",
        "        \"question_topics\": question_topics,\n",
        "        \"percentage_question_topics\": percentage_question_topics,\n",
        "    })\n",
        "\n",
        "# Step 3: Display the results\n",
        "for result in results:\n",
        "    print(f\"File: {result['file']}\")\n",
        "    print(f\"  Total topics: {result['total_topics']}\")\n",
        "    print(f\"  Question topics: {result['question_topics']}\")\n",
        "    print(f\"  Percentage of question topics: {result['percentage_question_topics']:.2f}%\")\n",
        "    print()\n",
        "\n",
        "# Optional: Save the results to a new Excel file\n",
        "output_filename = os.path.join(input_directory, \"summary.xlsx\")\n",
        "summary_df = pd.DataFrame(results)\n",
        "summary_df.to_excel(output_filename, index=False)"
      ],
      "metadata": {
        "colab": {
          "base_uri": "https://localhost:8080/"
        },
        "id": "jimtjHdr-tMz",
        "outputId": "3f82ef5b-fcc9-4e90-e859-c99eeedb443a"
      },
      "execution_count": 2,
      "outputs": [
        {
          "output_type": "stream",
          "name": "stdout",
          "text": [
            "File: agreg_externe_2022_philo_generale.xlsx\n",
            "  Total topics: 316\n",
            "  Question topics: 113\n",
            "  Percentage of question topics: 35.76%\n",
            "\n",
            "File: agreg_externe_2024_les sciences humaines.xlsx\n",
            "  Total topics: 469\n",
            "  Question topics: 185\n",
            "  Percentage of question topics: 39.45%\n",
            "\n",
            "File: agreg_externe_2022_esthetique.xlsx\n",
            "  Total topics: 320\n",
            "  Question topics: 158\n",
            "  Percentage of question topics: 49.38%\n",
            "\n",
            "File: agreg_externe_2021_metaphysique.xlsx\n",
            "  Total topics: 286\n",
            "  Question topics: 136\n",
            "  Percentage of question topics: 47.55%\n",
            "\n",
            "File: merged.xlsx\n",
            "  Total topics: 3352\n",
            "  Question topics: 1365\n",
            "  Percentage of question topics: 40.72%\n",
            "\n",
            "File: agreg_externe_2023_sciences_humaines.xlsx\n",
            "  Total topics: 469\n",
            "  Question topics: 185\n",
            "  Percentage of question topics: 39.45%\n",
            "\n",
            "File: agreg_externe 2024 philosophie générale.xlsx\n",
            "  Total topics: 406\n",
            "  Question topics: 175\n",
            "  Percentage of question topics: 43.10%\n",
            "\n",
            "File: agreg_externe_2023_philosophie_generale.xlsx\n",
            "  Total topics: 376\n",
            "  Question topics: 134\n",
            "  Percentage of question topics: 35.64%\n",
            "\n",
            "File: agreg_externe_2021 sujets de philo généralexlsx.xlsx\n",
            "  Total topics: 302\n",
            "  Question topics: 122\n",
            "  Percentage of question topics: 40.40%\n",
            "\n",
            "File: agreg_externe_2024 philosophie politique.xlsx\n",
            "  Total topics: 408\n",
            "  Question topics: 157\n",
            "  Percentage of question topics: 38.48%\n",
            "\n"
          ]
        }
      ]
    }
  ]
}